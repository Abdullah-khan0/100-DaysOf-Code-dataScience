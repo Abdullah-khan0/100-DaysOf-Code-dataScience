{
 "cells": [
  {
   "cell_type": "markdown",
   "id": "7a97688c",
   "metadata": {},
   "source": [
    "# Python Modules\n",
    "There are two types of python modules:\n",
    "\n",
    "**Built-in modules\n",
    "\n",
    "**User-defined modules"
   ]
  },
  {
   "cell_type": "markdown",
   "id": "1f6ca2ae",
   "metadata": {},
   "source": [
    "1. Built-in modules:\n",
    "\n",
    "math\n",
    "\n",
    "date\n",
    "\n",
    "os\n",
    "\n",
    "sys"
   ]
  },
  {
   "cell_type": "code",
   "execution_count": 10,
   "id": "e044f553",
   "metadata": {},
   "outputs": [
    {
     "name": "stdout",
     "output_type": "stream",
     "text": [
      "Value of cos90 is: -0.4480736161291701\n",
      "Value of sin0 is: 0.0\n",
      "Value of tan45 is: 1.6197751905438615\n",
      "Value of pie is: 3.141592653589793\n"
     ]
    }
   ],
   "source": [
    "import math\n",
    "cos90 = math.cos(90)\n",
    "sin0 = math.sin(0)\n",
    "tan45 = math.tan(45)\n",
    "pie = math.pi\n",
    "print(\"Value of cos90 is:\", cos90)\n",
    "print(\"Value of sin0 is:\", sin0)\n",
    "print(\"Value of tan45 is:\", tan45)\n",
    "print(\"Value of pie is:\",pie)"
   ]
  },
  {
   "cell_type": "code",
   "execution_count": 11,
   "id": "228f43e7",
   "metadata": {},
   "outputs": [
    {
     "name": "stdout",
     "output_type": "stream",
     "text": [
      "The value of tau is:  6.283185307179586\n",
      "euler's number is:  2.718281828459045\n"
     ]
    }
   ],
   "source": [
    "from math import e, tau    \n",
    "print( \"The value of tau is: \", tau )    \n",
    "print( \"euler's number is: \", e )  "
   ]
  },
  {
   "cell_type": "code",
   "execution_count": 13,
   "id": "d0388ce3",
   "metadata": {},
   "outputs": [
    {
     "name": "stdout",
     "output_type": "stream",
     "text": [
      "10.0\n",
      "120\n",
      "3.141592653589793\n"
     ]
    }
   ],
   "source": [
    "from math import sqrt, factorial, pi\n",
    "print(sqrt(100))\n",
    "print(factorial(5))\n",
    "print(pi)"
   ]
  },
  {
   "cell_type": "code",
   "execution_count": 14,
   "id": "2624b11b",
   "metadata": {},
   "outputs": [
    {
     "name": "stdout",
     "output_type": "stream",
     "text": [
      "6\n",
      "5\n"
     ]
    }
   ],
   "source": [
    "import math\n",
    "x = math.ceil(5.7) #math.ceil() method rounds a number upwards to its nearest integer.\n",
    "y = math.floor(5.7) #math.floor() method rounds a number downwards to its nearest integer,\n",
    "print(x)\n",
    "print(y) "
   ]
  },
  {
   "cell_type": "code",
   "execution_count": 16,
   "id": "d559f025",
   "metadata": {},
   "outputs": [
    {
     "name": "stdout",
     "output_type": "stream",
     "text": [
      "4 to the power of 3: 64\n"
     ]
    }
   ],
   "source": [
    "# The pow(x, y) function returns the value of x to the power of y (x^y).\n",
    "import math\n",
    "x = pow(4, 3)\n",
    "print(\"4 to the power of 3:\",x)"
   ]
  },
  {
   "cell_type": "code",
   "execution_count": 18,
   "id": "2b43a103",
   "metadata": {},
   "outputs": [
    {
     "name": "stdout",
     "output_type": "stream",
     "text": [
      "Minimum value in x:  5\n",
      "Maximum value in y: 25\n"
     ]
    }
   ],
   "source": [
    "import math \n",
    "x = min(5, 10, 25)\n",
    "y = max(5, 10, 25)\n",
    "\n",
    "print(\"Minimum value in x: \",x)\n",
    "print('Maximum value in y:',y)"
   ]
  },
  {
   "cell_type": "code",
   "execution_count": 19,
   "id": "b10dc22e",
   "metadata": {},
   "outputs": [
    {
     "name": "stdout",
     "output_type": "stream",
     "text": [
      "49.25\n"
     ]
    }
   ],
   "source": [
    "#The abs() function returns the absolute (positive) value of the specified number:\n",
    "import math\n",
    "x = abs(-49.25)\n",
    "print(x)"
   ]
  },
  {
   "cell_type": "markdown",
   "id": "b76e42d1",
   "metadata": {},
   "source": [
    "# Data & Time\n"
   ]
  },
  {
   "cell_type": "code",
   "execution_count": 39,
   "id": "a0608836",
   "metadata": {},
   "outputs": [
    {
     "name": "stdout",
     "output_type": "stream",
     "text": [
      "2023-09-27 23:36:08.875430\n",
      "2023\n",
      "9\n",
      "27\n"
     ]
    }
   ],
   "source": [
    "#using the datetime module\n",
    "import datetime\n",
    "now = datetime.datetime.now()\n",
    "print(now)\n",
    "print(now.year)\n",
    "print(now.month)\n",
    "print(now.day)"
   ]
  },
  {
   "cell_type": "code",
   "execution_count": 20,
   "id": "59750299",
   "metadata": {},
   "outputs": [
    {
     "name": "stdout",
     "output_type": "stream",
     "text": [
      "1695836110.0214937\n"
     ]
    }
   ],
   "source": [
    "import time\n",
    "print(time.time())"
   ]
  },
  {
   "cell_type": "code",
   "execution_count": 22,
   "id": "96724317",
   "metadata": {},
   "outputs": [
    {
     "name": "stdout",
     "output_type": "stream",
     "text": [
      "Wed Sep 27 23:08:18 2023\n"
     ]
    }
   ],
   "source": [
    "#print the current time in human readable format\n",
    "import time\n",
    "print(time.ctime())"
   ]
  },
  {
   "cell_type": "code",
   "execution_count": 23,
   "id": "c6d73b27",
   "metadata": {},
   "outputs": [
    {
     "name": "stdout",
     "output_type": "stream",
     "text": [
      "Wed Sep 27 23:09:05 2023\n"
     ]
    }
   ],
   "source": [
    "#the sleep() function inside time module is used to delay execution of current time thread by the given number of seconds.\n",
    "import time\n",
    "time.sleep(10)\n",
    "print(time.ctime())"
   ]
  },
  {
   "cell_type": "code",
   "execution_count": 24,
   "id": "2809b70b",
   "metadata": {},
   "outputs": [
    {
     "name": "stdout",
     "output_type": "stream",
     "text": [
      "time.struct_time(tm_year=2022, tm_mon=7, tm_mday=24, tm_hour=19, tm_min=59, tm_sec=16, tm_wday=6, tm_yday=205, tm_isdst=0)\n"
     ]
    }
   ],
   "source": [
    "#To get the output of local time in struct_time format, use the localtime() function. \n",
    "import time\n",
    "\n",
    "print(time.localtime(1658672956.8853111))"
   ]
  },
  {
   "cell_type": "code",
   "execution_count": 25,
   "id": "8c25e37d",
   "metadata": {},
   "outputs": [
    {
     "name": "stdout",
     "output_type": "stream",
     "text": [
      "time.struct_time(tm_year=2022, tm_mon=7, tm_mday=24, tm_hour=14, tm_min=29, tm_sec=16, tm_wday=6, tm_yday=205, tm_isdst=0)\n"
     ]
    }
   ],
   "source": [
    "#To get the output of Coordinated Universal Time in struct_time format, use the gmtime() function.\n",
    "import time\n",
    "print(time.gmtime(1658672956.8853111))"
   ]
  },
  {
   "cell_type": "code",
   "execution_count": 26,
   "id": "9e740fba",
   "metadata": {},
   "outputs": [
    {
     "name": "stdout",
     "output_type": "stream",
     "text": [
      "1658673879.0\n"
     ]
    }
   ],
   "source": [
    "#time.mktime():\n",
    "#We also have the reverse of localtime() function that prints seconds passed since epoch in local time. \n",
    "import time\n",
    "local_time = (2022, 7, 24, 20, 14, 39, 6, 205, 0)\n",
    "print(time.mktime(local_time))"
   ]
  },
  {
   "cell_type": "code",
   "execution_count": 27,
   "id": "d0038380",
   "metadata": {},
   "outputs": [
    {
     "name": "stdout",
     "output_type": "stream",
     "text": [
      "Sun Jul 24 20:14:39 2022\n"
     ]
    }
   ],
   "source": [
    "#The asctime() function takes struct_time and prints a single string representing it.\n",
    "import time\n",
    "local_time = (2022, 7, 24, 20, 14, 39, 6, 205, 0)\n",
    "print(time.asctime(local_time))"
   ]
  },
  {
   "cell_type": "code",
   "execution_count": 28,
   "id": "71938a63",
   "metadata": {},
   "outputs": [
    {
     "name": "stdout",
     "output_type": "stream",
     "text": [
      "time.struct_time(tm_year=2022, tm_mon=7, tm_mday=24, tm_hour=0, tm_min=0, tm_sec=0, tm_wday=6, tm_yday=205, tm_isdst=-1)\n"
     ]
    }
   ],
   "source": [
    "#time.strptime():\n",
    "#This function parses string based on given format and returns it in struct_time format.\n",
    "import time\n",
    "local_time = \"24 July, 2022\"\n",
    "print(time.strptime(local_time, \"%d %B, %Y\"))"
   ]
  },
  {
   "cell_type": "code",
   "execution_count": 29,
   "id": "60539943",
   "metadata": {},
   "outputs": [
    {
     "name": "stdout",
     "output_type": "stream",
     "text": [
      "     July 2022\n",
      "Mo Tu We Th Fr Sa Su\n",
      "             1  2  3\n",
      " 4  5  6  7  8  9 10\n",
      "11 12 13 14 15 16 17\n",
      "18 19 20 21 22 23 24\n",
      "25 26 27 28 29 30 31\n",
      "\n"
     ]
    }
   ],
   "source": [
    "#Calendar:\n",
    "#We can even print a calendar for a particular month. This can be done using the calendar module.\n",
    "import calendar\n",
    "print(calendar.month(2022, 7))"
   ]
  },
  {
   "cell_type": "code",
   "execution_count": 34,
   "id": "12073630",
   "metadata": {},
   "outputs": [
    {
     "name": "stdout",
     "output_type": "stream",
     "text": [
      "C:\\Users\\ABDULLAH KHAN\n",
      "Khan Abdullah\n"
     ]
    }
   ],
   "source": [
    "import os\n",
    "print(os.getcwd())\n",
    "print(os.getlogin())"
   ]
  },
  {
   "cell_type": "code",
   "execution_count": 35,
   "id": "11308b86",
   "metadata": {},
   "outputs": [
    {
     "name": "stdout",
     "output_type": "stream",
     "text": [
      "3.11.3 | packaged by Anaconda, Inc. | (main, Apr 19 2023, 23:46:34) [MSC v.1916 64 bit (AMD64)]\n",
      "['C:\\\\Users\\\\ABDULLAH KHAN\\\\anaconda3\\\\Lib\\\\site-packages\\\\ipykernel_launcher.py', '-f', 'C:\\\\Users\\\\ABDULLAH KHAN\\\\AppData\\\\Roaming\\\\jupyter\\\\runtime\\\\kernel-37533992-db44-407b-b2f0-cdb41b923174.json']\n"
     ]
    }
   ],
   "source": [
    "#  using the sys module\n",
    "import sys\n",
    "print(sys.version)\n",
    "print(sys.argv)"
   ]
  },
  {
   "cell_type": "code",
   "execution_count": 37,
   "id": "7fea41fd",
   "metadata": {},
   "outputs": [
    {
     "name": "stdout",
     "output_type": "stream",
     "text": [
      "{\"name\": \"John Doe\", \"age\": 30, \"city\": \"New York\"}\n"
     ]
    }
   ],
   "source": [
    "# using the json module\n",
    "import json\n",
    "data = {\n",
    "    \"name\": \"John Doe\",\n",
    "    \"age\": 30,\n",
    "    \"city\": \"New York\"\n",
    "}\n",
    "json_data = json.dumps(data)\n",
    "print(json_data)"
   ]
  },
  {
   "cell_type": "code",
   "execution_count": 43,
   "id": "5ab91b59",
   "metadata": {},
   "outputs": [
    {
     "name": "stdout",
     "output_type": "stream",
     "text": [
      "14\n",
      "1\n"
     ]
    }
   ],
   "source": [
    "#using the random module\n",
    "import random\n",
    "print(random.randint(1, 100))\n",
    "print(random.choice([1, 2, 3, 4, 5]))"
   ]
  },
  {
   "cell_type": "markdown",
   "id": "4f89d57b",
   "metadata": {},
   "source": [
    "# User-defined modules in Python\n",
    "it is created by the user to simplify their project. These modules can contain functions, classes, variables, and other code that you can reuse across multiple scripts."
   ]
  },
  {
   "cell_type": "code",
   "execution_count": 49,
   "id": "1f0f683d",
   "metadata": {},
   "outputs": [
    {
     "name": "stdout",
     "output_type": "stream",
     "text": [
      "Enter first number:4\n",
      "Enter second number:2\n",
      "Addition 6\n",
      "Subtraction 2\n",
      "Multiplication 8\n",
      "Division 2.0\n"
     ]
    }
   ],
   "source": [
    "import math \n",
    "\n",
    "num1 = int(input(\"Enter first number:\"))\n",
    "num2 = int(input(\"Enter second number:\"))\n",
    "\n",
    "print(\"Addition\",num1 + num2)\n",
    "print(\"Subtraction\", num1-num2)\n",
    "print(\"Multiplication\",num1 * num2)\n",
    "print(\"Division\", num1/num2)"
   ]
  },
  {
   "cell_type": "code",
   "execution_count": 53,
   "id": "1c2db554",
   "metadata": {},
   "outputs": [
    {
     "name": "stdout",
     "output_type": "stream",
     "text": [
      "The number is: 204\n",
      "The number is: 404\n"
     ]
    }
   ],
   "source": [
    "Number = 204    \n",
    "def AddNumber(): \n",
    "    global Number    \n",
    "    Number = Number + 200    \n",
    "print(\"The number is:\", Number)       \n",
    "# here, we are printing the number after performing the addition  \n",
    "AddNumber()    \n",
    "print(\"The number is:\", Number)   "
   ]
  },
  {
   "cell_type": "code",
   "execution_count": null,
   "id": "c89a960c",
   "metadata": {},
   "outputs": [],
   "source": []
  }
 ],
 "metadata": {
  "kernelspec": {
   "display_name": "Python 3 (ipykernel)",
   "language": "python",
   "name": "python3"
  },
  "language_info": {
   "codemirror_mode": {
    "name": "ipython",
    "version": 3
   },
   "file_extension": ".py",
   "mimetype": "text/x-python",
   "name": "python",
   "nbconvert_exporter": "python",
   "pygments_lexer": "ipython3",
   "version": "3.11.3"
  }
 },
 "nbformat": 4,
 "nbformat_minor": 5
}

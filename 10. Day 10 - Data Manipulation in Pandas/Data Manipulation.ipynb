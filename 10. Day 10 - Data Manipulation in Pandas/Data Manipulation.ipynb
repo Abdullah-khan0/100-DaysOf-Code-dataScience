{
 "cells": [
  {
   "cell_type": "markdown",
   "id": "724f45a4",
   "metadata": {},
   "source": [
    "# Data Manipulation"
   ]
  },
  {
   "cell_type": "markdown",
   "id": "e12f31aa",
   "metadata": {},
   "source": [
    "Adding/Removing Columns\n",
    "\n",
    "Data Aggregation\n",
    "\n",
    "Grouping and Pivot Tables"
   ]
  },
  {
   "cell_type": "code",
   "execution_count": 2,
   "id": "15965b00",
   "metadata": {},
   "outputs": [
    {
     "name": "stdout",
     "output_type": "stream",
     "text": [
      "      Name  Age\n",
      "0    Alice   25\n",
      "1      Bob   30\n",
      "2  Charlie   35\n"
     ]
    }
   ],
   "source": [
    "import pandas as pd\n",
    "data = {'Name': ['Alice', 'Bob', 'Charlie'],\n",
    "        'Age': [25, 30, 35]}\n",
    "df = pd.DataFrame(data)\n",
    "print(df)"
   ]
  },
  {
   "cell_type": "code",
   "execution_count": 3,
   "id": "a36bab2f",
   "metadata": {},
   "outputs": [],
   "source": [
    "df['City'] = ['New York', 'Los Angeles', 'Chicago']"
   ]
  },
  {
   "cell_type": "code",
   "execution_count": 4,
   "id": "35fae4a8",
   "metadata": {},
   "outputs": [
    {
     "name": "stdout",
     "output_type": "stream",
     "text": [
      "      Name  Age         City\n",
      "0    Alice   25     New York\n",
      "1      Bob   30  Los Angeles\n",
      "2  Charlie   35      Chicago\n"
     ]
    }
   ],
   "source": [
    "print(df)"
   ]
  },
  {
   "cell_type": "code",
   "execution_count": 5,
   "id": "193dfa3a",
   "metadata": {},
   "outputs": [],
   "source": [
    "df = df.drop('City', axis=1)"
   ]
  },
  {
   "cell_type": "code",
   "execution_count": 6,
   "id": "1b271606",
   "metadata": {},
   "outputs": [
    {
     "name": "stdout",
     "output_type": "stream",
     "text": [
      "      Name  Age\n",
      "0    Alice   25\n",
      "1      Bob   30\n",
      "2  Charlie   35\n"
     ]
    }
   ],
   "source": [
    "print(df)"
   ]
  },
  {
   "cell_type": "markdown",
   "id": "e16f5d50",
   "metadata": {},
   "source": [
    "# Data Aggregation"
   ]
  },
  {
   "cell_type": "code",
   "execution_count": 14,
   "id": "94184e5a",
   "metadata": {},
   "outputs": [],
   "source": [
    "import pandas as pd\n",
    "data = {'Category': ['A', 'B', 'A', 'B', 'A', 'B'],\n",
    "        'Value': [10, 20, 15, 25, 30, 35]}\n",
    "df = pd.DataFrame(data)\n",
    "df1 = df.groupby('Category')"
   ]
  },
  {
   "cell_type": "code",
   "execution_count": 18,
   "id": "8b6462a2",
   "metadata": {},
   "outputs": [
    {
     "name": "stdout",
     "output_type": "stream",
     "text": [
      "------------sum----------------\n",
      "Category\n",
      "A    55\n",
      "B    80\n",
      "Name: Value, dtype: int64\n",
      "------------mean----------------\n",
      "Category\n",
      "A    18.333333\n",
      "B    26.666667\n",
      "Name: Value, dtype: float64\n",
      "------------median----------------\n",
      "Category\n",
      "A    15.0\n",
      "B    25.0\n",
      "Name: Value, dtype: float64\n",
      "------------max----------------\n",
      "Category\n",
      "A    30\n",
      "B    35\n",
      "Name: Value, dtype: int64\n",
      "------------count----------------\n",
      "Category\n",
      "A    3\n",
      "B    3\n",
      "Name: Value, dtype: int64\n",
      "------------min----------------\n",
      "Category\n",
      "A    10\n",
      "B    20\n",
      "Name: Value, dtype: int64\n"
     ]
    }
   ],
   "source": [
    "x1 = df1['Value'].sum()\n",
    "x2 = df1['Value'].mean()\n",
    "x4 = df1['Value'].median()\n",
    "x5 = df1['Value'].max()\n",
    "x6 = df1['Value'].count()\n",
    "x7 = df1['Value'].min()\n",
    "\n",
    "print(\"------------sum----------------\")\n",
    "print(x1)\n",
    "print(\"------------mean----------------\")\n",
    "print(x2)\n",
    "print(\"------------median----------------\")\n",
    "print(x4)\n",
    "print(\"------------max----------------\")\n",
    "print(x5)\n",
    "print(\"------------count----------------\")\n",
    "print(x6)\n",
    "print(\"------------min----------------\")\n",
    "print(x7)"
   ]
  },
  {
   "cell_type": "code",
   "execution_count": 19,
   "id": "314e67e9",
   "metadata": {},
   "outputs": [],
   "source": [
    "import pandas as pd\n",
    "data = {'Category': ['A', 'B', 'A', 'B', 'A', 'B'],\n",
    "        'Value': [10, 20, 15, 25, 30, 35]}\n",
    "df = pd.DataFrame(data)\n",
    "df1 = df.groupby('Category')\n",
    "y1 = df1['Value'].sum()"
   ]
  },
  {
   "cell_type": "code",
   "execution_count": 23,
   "id": "6ce8cd1e",
   "metadata": {},
   "outputs": [
    {
     "name": "stdout",
     "output_type": "stream",
     "text": [
      "          Value\n",
      "Category       \n",
      "A            55\n",
      "B            80\n"
     ]
    }
   ],
   "source": [
    "pivot_table = df.pivot_table(index='Category', values='Value', aggfunc='sum')\n",
    "print(pivot_table)"
   ]
  },
  {
   "cell_type": "markdown",
   "id": "296aa5c3",
   "metadata": {},
   "source": [
    "# Basic DataFrame Operations:\n",
    "\n",
    "Selecting Columns\n",
    "\n",
    "Filtering Data\n",
    "\n",
    "Sorting Data\n",
    "\n",
    "Descriptive Statistics"
   ]
  },
  {
   "cell_type": "code",
   "execution_count": 24,
   "id": "9615b929",
   "metadata": {},
   "outputs": [
    {
     "name": "stdout",
     "output_type": "stream",
     "text": [
      "0      Alice\n",
      "1        Bob\n",
      "2    Charlie\n",
      "Name: Name, dtype: object\n",
      "---------**---------\n",
      "      Name  Age\n",
      "0    Alice   25\n",
      "1      Bob   30\n",
      "2  Charlie   35\n"
     ]
    }
   ],
   "source": [
    "#selecting a column\n",
    "import pandas as pd\n",
    "data = {'Name': ['Alice', 'Bob', 'Charlie'],\n",
    "        'Age': [25, 30, 35],\n",
    "        'City': ['New York', 'Los Angeles', 'Chicago']}\n",
    "df = pd.DataFrame(data)\n",
    "df1 = df['Name']\n",
    "df2 = df[['Name', 'Age']]\n",
    "\n",
    "print(df1)\n",
    "print(\"---------**---------\")\n",
    "print(df2)"
   ]
  },
  {
   "cell_type": "code",
   "execution_count": 26,
   "id": "e0cd5977",
   "metadata": {},
   "outputs": [
    {
     "name": "stdout",
     "output_type": "stream",
     "text": [
      "      Name  Age     City\n",
      "2  Charlie   35  Chicago\n",
      "-------****--------\n",
      "Empty DataFrame\n",
      "Columns: [Name, Age, City]\n",
      "Index: []\n"
     ]
    }
   ],
   "source": [
    "# Filter rows\n",
    "x1 = df[df['Age'] > 30]\n",
    "y1 = df[(df['Age'] > 25) & (df['City'] == 'New York')]\n",
    "print(x1)\n",
    "print(\"-------****--------\")\n",
    "print(y1)"
   ]
  },
  {
   "cell_type": "code",
   "execution_count": 28,
   "id": "115a08b7",
   "metadata": {},
   "outputs": [
    {
     "name": "stdout",
     "output_type": "stream",
     "text": [
      "      Name  Age         City\n",
      "0    Alice   25     New York\n",
      "1      Bob   30  Los Angeles\n",
      "2  Charlie   35      Chicago\n",
      "------***-------\n",
      "      Name  Age         City\n",
      "2  Charlie   35      Chicago\n",
      "1      Bob   30  Los Angeles\n",
      "0    Alice   25     New York\n"
     ]
    }
   ],
   "source": [
    "#Sorting Data\n",
    "Q1 = df.sort_values(by='Age')\n",
    "Q2 = df.sort_values(by=['City', 'Age'], ascending=[True, False])\n",
    "\n",
    "print(Q1)\n",
    "print(\"------***-------\")\n",
    "print(Q2)\n"
   ]
  },
  {
   "cell_type": "code",
   "execution_count": null,
   "id": "100bd122",
   "metadata": {},
   "outputs": [],
   "source": []
  }
 ],
 "metadata": {
  "kernelspec": {
   "display_name": "Python 3 (ipykernel)",
   "language": "python",
   "name": "python3"
  },
  "language_info": {
   "codemirror_mode": {
    "name": "ipython",
    "version": 3
   },
   "file_extension": ".py",
   "mimetype": "text/x-python",
   "name": "python",
   "nbconvert_exporter": "python",
   "pygments_lexer": "ipython3",
   "version": "3.11.3"
  }
 },
 "nbformat": 4,
 "nbformat_minor": 5
}

{
 "cells": [
  {
   "cell_type": "markdown",
   "id": "4e4a3687",
   "metadata": {},
   "source": [
    "# --------Touples-------\n",
    "Tuple items are ordered, unchangeable, and allow duplicate values.\n",
    "\n",
    "Tuples are written with round brackets."
   ]
  },
  {
   "cell_type": "code",
   "execution_count": 1,
   "id": "5d48e81c",
   "metadata": {},
   "outputs": [
    {
     "name": "stdout",
     "output_type": "stream",
     "text": [
      "('apple', 'banana', 'cherry', 'apple', 'cherry')\n",
      "5\n",
      "<class 'tuple'>\n"
     ]
    }
   ],
   "source": [
    "fruits = (\"apple\", \"banana\", \"cherry\", \"apple\", \"cherry\")\n",
    "print(fruits)\n",
    "print(len(fruits))\n",
    "print(type(fruits))\n",
    "\n"
   ]
  },
  {
   "cell_type": "markdown",
   "id": "66d32d29",
   "metadata": {},
   "source": [
    "The tuple() Constructor\n",
    "It is also possible to use the tuple() constructor to make a tuple."
   ]
  },
  {
   "cell_type": "code",
   "execution_count": 2,
   "id": "575340e8",
   "metadata": {},
   "outputs": [
    {
     "name": "stdout",
     "output_type": "stream",
     "text": [
      "('apple', 'banana', 'cherry')\n"
     ]
    }
   ],
   "source": [
    "fruits = tuple((\"apple\", \"banana\", \"cherry\")) # note the double round-brackets\n",
    "print(fruits)"
   ]
  },
  {
   "cell_type": "markdown",
   "id": "81218e63",
   "metadata": {},
   "source": [
    "# ---------Access Tuple Items---------------"
   ]
  },
  {
   "cell_type": "code",
   "execution_count": 3,
   "id": "6cd4edf0",
   "metadata": {},
   "outputs": [
    {
     "name": "stdout",
     "output_type": "stream",
     "text": [
      "banana\n",
      "mango\n",
      "('cherry', 'orange', 'kiwi')\n",
      "('apple', 'banana', 'cherry', 'orange')\n",
      "('cherry', 'orange', 'kiwi', 'melon', 'mango')\n",
      "('orange', 'kiwi', 'melon')\n"
     ]
    }
   ],
   "source": [
    "fruits = (\"apple\", \"banana\", \"cherry\", \"orange\", \"kiwi\", \"melon\", \"mango\")\n",
    "print(fruits[1])\n",
    "print(fruits[-1])\n",
    "print(fruits[2:5])\n",
    "print(fruits[:4])\n",
    "print(fruits[2:])\n",
    "print(fruits[-4:-1])\n"
   ]
  },
  {
   "cell_type": "markdown",
   "id": "95113540",
   "metadata": {},
   "source": [
    "# -------------Update Tuples-------------\n",
    "Once a tuple is created, you cannot change its values. Tuples are unchangeable, or immutable as it also is called.\n",
    "\n",
    "But there is a workaround. You can convert the tuple into a list, change the list, and convert the list back into a tuple.\n"
   ]
  },
  {
   "cell_type": "code",
   "execution_count": 4,
   "id": "668ae966",
   "metadata": {},
   "outputs": [],
   "source": [
    "#Convert the tuple into a list, add \"orange\", and convert it back into a tuple:\n",
    "fruits = (\"apple\", \"banana\", \"cherry\")\n",
    "y = list(fruits)\n",
    "y.append(\"orange\")\n",
    "fruits= tuple(y)"
   ]
  },
  {
   "cell_type": "code",
   "execution_count": 5,
   "id": "251e140a",
   "metadata": {},
   "outputs": [
    {
     "name": "stdout",
     "output_type": "stream",
     "text": [
      "('apple', 'banana', 'cherry', 'orange')\n"
     ]
    }
   ],
   "source": [
    "print(fruits)"
   ]
  },
  {
   "cell_type": "code",
   "execution_count": 10,
   "id": "d4080cb0",
   "metadata": {},
   "outputs": [
    {
     "name": "stdout",
     "output_type": "stream",
     "text": [
      "('banana', 'cherry')\n"
     ]
    }
   ],
   "source": [
    "#Convert the tuple into a list, remove \"apple\", and convert it back into a tuple:\n",
    "fruits = (\"apple\", \"banana\", \"cherry\")\n",
    "y = list(fruits)\n",
    "y.remove(\"apple\")\n",
    "fruits = tuple(y)\n",
    "print(fruits)"
   ]
  },
  {
   "cell_type": "code",
   "execution_count": 12,
   "id": "7f7b310d",
   "metadata": {},
   "outputs": [],
   "source": [
    "#The del keyword can delete the tuple completely:\n",
    "fruits = (\"apple\", \"banana\", \"cherry\")\n",
    "del fruits"
   ]
  },
  {
   "cell_type": "markdown",
   "id": "09c80463",
   "metadata": {},
   "source": [
    "# --------Unpack Tuples----------------\n",
    "When we create a tuple, we normally assign values to it. This is called \"packing\" a tuple:\n",
    "But, in Python, we are also allowed to extract the values back into variables. This is called \"unpacking\":"
   ]
  },
  {
   "cell_type": "markdown",
   "id": "fc7c2c4d",
   "metadata": {},
   "source": [
    "#unpacking\n",
    "fruits = (\"apple\", \"banana\", \"cherry\")#packing\n",
    "\n",
    "(green, yellow, red) = fruits\n",
    "\n",
    "print(green)\n",
    "print(yellow)\n",
    "print(red)"
   ]
  },
  {
   "cell_type": "code",
   "execution_count": 15,
   "id": "08779720",
   "metadata": {},
   "outputs": [
    {
     "name": "stdout",
     "output_type": "stream",
     "text": [
      "apple\n",
      "banana\n",
      "['cherry', 'strawberry', 'raspberry']\n"
     ]
    }
   ],
   "source": [
    "#Using Asterisk*\n",
    "#Assign the rest of the values as a list called \"red\":\n",
    "\n",
    "fruits = (\"apple\", \"banana\", \"cherry\", \"strawberry\", \"raspberry\")\n",
    "\n",
    "(green, yellow, *red) = fruits\n",
    "\n",
    "print(green)\n",
    "print(yellow)\n",
    "print(red)"
   ]
  },
  {
   "cell_type": "markdown",
   "id": "b5097c4b",
   "metadata": {},
   "source": [
    "# ------------Loop Tuples-----------\n",
    "Print all items by referring to their index number:\n",
    "Print all items, using a while loop to go through all the index numbers:\n"
   ]
  },
  {
   "cell_type": "code",
   "execution_count": 16,
   "id": "f14d84ab",
   "metadata": {},
   "outputs": [
    {
     "name": "stdout",
     "output_type": "stream",
     "text": [
      "apple\n",
      "banana\n",
      "cherry\n"
     ]
    }
   ],
   "source": [
    "fruits = (\"apple\", \"banana\", \"cherry\")\n",
    "for i in range(len(fruits)):\n",
    "  print(fruits[i])"
   ]
  },
  {
   "cell_type": "code",
   "execution_count": 17,
   "id": "fe5fe838",
   "metadata": {},
   "outputs": [
    {
     "name": "stdout",
     "output_type": "stream",
     "text": [
      "apple\n",
      "banana\n",
      "cherry\n"
     ]
    }
   ],
   "source": [
    "fruits = (\"apple\", \"banana\", \"cherry\")\n",
    "i = 0\n",
    "while i < len(fruits):\n",
    "  print(fruits[i])\n",
    "  i = i + 1"
   ]
  },
  {
   "cell_type": "code",
   "execution_count": null,
   "id": "7a1d691b",
   "metadata": {},
   "outputs": [],
   "source": []
  }
 ],
 "metadata": {
  "kernelspec": {
   "display_name": "Python 3 (ipykernel)",
   "language": "python",
   "name": "python3"
  },
  "language_info": {
   "codemirror_mode": {
    "name": "ipython",
    "version": 3
   },
   "file_extension": ".py",
   "mimetype": "text/x-python",
   "name": "python",
   "nbconvert_exporter": "python",
   "pygments_lexer": "ipython3",
   "version": "3.11.3"
  }
 },
 "nbformat": 4,
 "nbformat_minor": 5
}

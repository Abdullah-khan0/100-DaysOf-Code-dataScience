{
 "cells": [
  {
   "cell_type": "markdown",
   "id": "5430ac25",
   "metadata": {},
   "source": [
    "#  -----------If ... Else------------"
   ]
  },
  {
   "cell_type": "code",
   "execution_count": 1,
   "id": "5e4d74c8",
   "metadata": {},
   "outputs": [
    {
     "name": "stdout",
     "output_type": "stream",
     "text": [
      "b is greater than a\n"
     ]
    }
   ],
   "source": [
    "a = 45\n",
    "b = 100\n",
    "if b > a:\n",
    "  print(\"b is greater than a\")"
   ]
  },
  {
   "cell_type": "code",
   "execution_count": 2,
   "id": "7d673b55",
   "metadata": {},
   "outputs": [
    {
     "name": "stdout",
     "output_type": "stream",
     "text": [
      "a and b are equal\n"
     ]
    }
   ],
   "source": [
    "a = 24\n",
    "b = 24\n",
    "if b > a:\n",
    "  print(\"b is greater than a\")\n",
    "elif a == b:\n",
    "  print(\"a and b are equal\")"
   ]
  },
  {
   "cell_type": "code",
   "execution_count": 3,
   "id": "b358f0d6",
   "metadata": {},
   "outputs": [
    {
     "name": "stdout",
     "output_type": "stream",
     "text": [
      "a is greater than b\n"
     ]
    }
   ],
   "source": [
    "a = 100\n",
    "b = 45\n",
    "if b > a:\n",
    "  print(\"b is greater than a\")\n",
    "elif a == b:\n",
    "  print(\"a and b are equal\")\n",
    "else:\n",
    "  print(\"a is greater than b\")"
   ]
  },
  {
   "cell_type": "markdown",
   "id": "3b8ce23b",
   "metadata": {},
   "source": [
    "# --------------Python Loops-------------\n",
    "Python has two primitive loop commands:\n",
    "while loops\n",
    "for loops"
   ]
  },
  {
   "cell_type": "code",
   "execution_count": 4,
   "id": "3c266164",
   "metadata": {},
   "outputs": [
    {
     "name": "stdout",
     "output_type": "stream",
     "text": [
      "1\n",
      "2\n",
      "3\n"
     ]
    }
   ],
   "source": [
    "x = 1\n",
    "while x < 4:\n",
    "  print(x)\n",
    "  x = x + 1\n"
   ]
  },
  {
   "cell_type": "code",
   "execution_count": 5,
   "id": "1611b5a4",
   "metadata": {},
   "outputs": [
    {
     "name": "stdout",
     "output_type": "stream",
     "text": [
      "1\n",
      "2\n",
      "3\n"
     ]
    }
   ],
   "source": [
    "#With the break statement we can stop the loop even if the while condition is true:\n",
    "x = 1\n",
    "while x < 4:\n",
    "  print(x)\n",
    "  if x == 3:\n",
    "    break\n",
    "  x = x + 1"
   ]
  },
  {
   "cell_type": "code",
   "execution_count": 6,
   "id": "261163c9",
   "metadata": {},
   "outputs": [
    {
     "name": "stdout",
     "output_type": "stream",
     "text": [
      "1\n",
      "2\n",
      "4\n",
      "5\n"
     ]
    }
   ],
   "source": [
    "#With the continue statement we can stop the current iteration, and continue with the next:\n",
    "x = 0\n",
    "while x < 5:\n",
    "  x += 1\n",
    "  if x == 3:\n",
    "    continue\n",
    "  print(x)"
   ]
  },
  {
   "cell_type": "code",
   "execution_count": 9,
   "id": "edec7b3a",
   "metadata": {},
   "outputs": [
    {
     "name": "stdout",
     "output_type": "stream",
     "text": [
      "New number: 10\n",
      "Choose Upper Value\n",
      "New number: 15\n",
      "Choose Lower value\n",
      "New number: 12\n",
      "Choose Upper Value\n",
      "New number: 14\n",
      "Congratulations. You made it!\n"
     ]
    }
   ],
   "source": [
    "#Number Guessing Game Program In Python\n",
    "import random\n",
    "Max = 20\n",
    "Min = 1\n",
    "adaptive_Max = Max\n",
    "adaptive_Min = Min\n",
    "guessed = random.randint(Min, Max)\n",
    "guess = 0\n",
    "while guess != guessed:\n",
    "    guess = int(input(\"New number: \"))\n",
    "    if guess == 0:  \n",
    "        print(\"Sorry that you're giving up!\")\n",
    "        break   \n",
    "    elif guess > guessed:\n",
    "        adaptive_Max = guess - 1\n",
    "        print(\"Choose Lower value\")\n",
    "    elif guess < guessed:\n",
    "        adaptive_Max = guess + 1\n",
    "        print(\"Choose Upper Value\")   \n",
    "else:\n",
    "    print(\"Congratulations. You made it!\")"
   ]
  },
  {
   "cell_type": "markdown",
   "id": "c592ffe6",
   "metadata": {},
   "source": [
    "# ------------for Loop--------------"
   ]
  },
  {
   "cell_type": "code",
   "execution_count": 1,
   "id": "9ee0a568",
   "metadata": {},
   "outputs": [
    {
     "name": "stdout",
     "output_type": "stream",
     "text": [
      "apple\n",
      "banana\n",
      "cherry\n"
     ]
    }
   ],
   "source": [
    "fruits = [\"apple\", \"banana\", \"cherry\"]\n",
    "for x in fruits:\n",
    "  print(x)"
   ]
  },
  {
   "cell_type": "code",
   "execution_count": 2,
   "id": "b46e414f",
   "metadata": {},
   "outputs": [
    {
     "name": "stdout",
     "output_type": "stream",
     "text": [
      "apple\n",
      "banana\n"
     ]
    }
   ],
   "source": [
    "#With the break statement we can stop the loop before it has looped through all the items:\n",
    "fruits = [\"apple\", \"banana\", \"cherry\"]\n",
    "for x in fruits:\n",
    "  print(x)\n",
    "  if x == \"banana\":\n",
    "    break"
   ]
  },
  {
   "cell_type": "code",
   "execution_count": 4,
   "id": "e9cca064",
   "metadata": {},
   "outputs": [
    {
     "name": "stdout",
     "output_type": "stream",
     "text": [
      "apple\n",
      "cherry\n"
     ]
    }
   ],
   "source": [
    "#With the continue statement we can stop the current iteration of the loop, and continue with the next:\n",
    "fruits = [\"apple\", \"banana\", \"cherry\"]\n",
    "for x in fruits:\n",
    "  if x == \"banana\":\n",
    "    continue\n",
    "  print(x)"
   ]
  },
  {
   "cell_type": "code",
   "execution_count": 5,
   "id": "1648f51f",
   "metadata": {},
   "outputs": [
    {
     "name": "stdout",
     "output_type": "stream",
     "text": [
      "2\n",
      "3\n",
      "4\n",
      "5\n"
     ]
    }
   ],
   "source": [
    "for x in range(2, 6):\n",
    "  print(x)"
   ]
  },
  {
   "cell_type": "code",
   "execution_count": 7,
   "id": "97aab179",
   "metadata": {},
   "outputs": [
    {
     "name": "stdout",
     "output_type": "stream",
     "text": [
      "                            *  \n",
      "                           * *  \n",
      "                          * * *  \n",
      "                         * * * *  \n",
      "                        * * * * *  \n",
      "                       * * * * * *  \n",
      "                      * * * * * * *  \n",
      "                     * * * * * * * *  \n",
      "                    * * * * * * * * *  \n",
      "                   * * * * * * * * * *  \n",
      "                  * * * * * * * * * * *  \n",
      "                 * * * * * * * * * * * *  \n",
      "                * * * * * * * * * * * * *  \n",
      "               * * * * * * * * * * * * * *  \n",
      "              * * * * * * * * * * * * * * *  \n"
     ]
    }
   ],
   "source": [
    "#triangle pattern of star\n",
    "def pattern(n):\n",
    "      k = 2 * n - 2\n",
    "      for i in range(0,n):\n",
    "           for j in range(0,k):\n",
    "               print(end=\" \")\n",
    "           k = k - 1\n",
    "           for j in range(0, i+1):\n",
    "                print(\"*\", end=\" \")\n",
    "           print(\" \")\n",
    "  \n",
    "pattern(15)"
   ]
  },
  {
   "cell_type": "code",
   "execution_count": 8,
   "id": "096433a7",
   "metadata": {},
   "outputs": [
    {
     "name": "stdout",
     "output_type": "stream",
     "text": [
      "* \r\n",
      "* * \r\n",
      "* * * \r\n",
      "* * * * \r\n",
      "* * * * * \r\n",
      "* * * * \r\n",
      "* * * \r\n",
      "* * \r\n",
      "* \r\n",
      "\r\n"
     ]
    }
   ],
   "source": [
    "#Right start pattern of star\n",
    "rows = 5\n",
    "for i in range(0, rows):\n",
    "    for j in range(0, i + 1):\n",
    "        print(\"*\", end=' ')\n",
    "    print(\"\\r\")\n",
    "\n",
    "for i in range(rows, 0, -1):\n",
    "    for j in range(0, i - 1):\n",
    "        print(\"*\", end=' ')\n",
    "    print(\"\\r\")"
   ]
  },
  {
   "cell_type": "code",
   "execution_count": 10,
   "id": "9bce24f7",
   "metadata": {},
   "outputs": [
    {
     "name": "stdout",
     "output_type": "stream",
     "text": [
      "* * * * * \n",
      " * * * * \n",
      "  * * * \n",
      "   * * \n",
      "    * \n",
      "    * \n",
      "   * * \n",
      "  * * * \n",
      " * * * * \n",
      "* * * * * \n"
     ]
    }
   ],
   "source": [
    "#Sandglass pattern of star\n",
    "rows = 5\n",
    "i = 0\n",
    "while i <= rows - 1:\n",
    "    j = 0\n",
    "    while j < i:\n",
    "        # display space\n",
    "        print('', end=' ')\n",
    "        j += 1\n",
    "    k = i\n",
    "    while k <= rows - 1:\n",
    "        print('*', end=' ')\n",
    "        k += 1\n",
    "    print()\n",
    "    i += 1\n",
    "\n",
    "i = rows - 1\n",
    "while i >= 0:\n",
    "    j = 0\n",
    "    while j < i:\n",
    "        print('', end=' ')\n",
    "        j += 1\n",
    "    k = i\n",
    "    while k <= rows - 1:\n",
    "        print('*', end=' ')\n",
    "        k += 1\n",
    "    print('')\n",
    "    i -= 1"
   ]
  },
  {
   "cell_type": "code",
   "execution_count": 11,
   "id": "acb6ef76",
   "metadata": {},
   "outputs": [
    {
     "name": "stdout",
     "output_type": "stream",
     "text": [
      "**************\n",
      "******__******\n",
      "*****____*****\n",
      "****______****\n",
      "***________***\n",
      "**__________**\n",
      "*____________*\n"
     ]
    }
   ],
   "source": [
    "#Pant style pattern of stars\n",
    "rows = 14\n",
    "print(\"*\" * rows, end=\"\\n\")\n",
    "i = (rows // 2) - 1\n",
    "j = 2\n",
    "while i != 0:\n",
    "    while j <= (rows - 2):\n",
    "        print(\"*\" * i, end=\"\")\n",
    "        print(\"_\" * j, end=\"\")\n",
    "        print(\"*\" * i, end=\"\\n\")\n",
    "        i = i - 1\n",
    "        j = j + 2"
   ]
  }
 ],
 "metadata": {
  "kernelspec": {
   "display_name": "Python 3 (ipykernel)",
   "language": "python",
   "name": "python3"
  },
  "language_info": {
   "codemirror_mode": {
    "name": "ipython",
    "version": 3
   },
   "file_extension": ".py",
   "mimetype": "text/x-python",
   "name": "python",
   "nbconvert_exporter": "python",
   "pygments_lexer": "ipython3",
   "version": "3.11.3"
  }
 },
 "nbformat": 4,
 "nbformat_minor": 5
}

{
 "cells": [
  {
   "cell_type": "markdown",
   "id": "f88e343c",
   "metadata": {},
   "source": [
    "# -----------Python Functions-----------\n",
    "A function is a block of code that performs a specific task whenever it is called. \n",
    "There are two types of functions:\n",
    "built-in functions\n",
    "user-defined functions\n",
    "\n",
    "1. built-in functions:\n",
    "These functions are defined and pre-coded in python.  examples:\n",
    "min(), max(), len(), sum(), type(), range(), dict(), list(), tuple(), set(), print(), etc\n",
    "\n",
    "2. user-defined functions:\n",
    "We can create functions to perform specific tasks as per our needs. Such functions are called user-defined functions."
   ]
  },
  {
   "cell_type": "code",
   "execution_count": 1,
   "id": "34333d32",
   "metadata": {},
   "outputs": [
    {
     "name": "stdout",
     "output_type": "stream",
     "text": [
      "Hello, Jack David\n"
     ]
    }
   ],
   "source": [
    "def name(fname, lname):\n",
    "    print(\"Hello,\", fname, lname)\n",
    "\n",
    "name(\"Jack\", \"David\")"
   ]
  },
  {
   "cell_type": "markdown",
   "id": "8f034ccd",
   "metadata": {},
   "source": [
    "# Function Arguments\n",
    "There are four types of arguments that we can provide in a function:\n",
    "1). Default Arguments\n",
    "2). Keyword Arguments\n",
    "3). Required Arguments\n",
    "4). Variable-length Arguments"
   ]
  },
  {
   "cell_type": "markdown",
   "id": "c7c03b57",
   "metadata": {},
   "source": [
    "Default arguments:\n",
    "We can provide a default value while creating a function.\n",
    "This way the function assumes a default value even if a value is not provided in the function call for that argument."
   ]
  },
  {
   "cell_type": "code",
   "execution_count": 2,
   "id": "bbc8612e",
   "metadata": {},
   "outputs": [
    {
     "name": "stdout",
     "output_type": "stream",
     "text": [
      "Hello, Amy Jack David\n"
     ]
    }
   ],
   "source": [
    "def name(fname, mname = \"Jack\", lname = \"David\"):\n",
    "    print(\"Hello,\", fname, mname, lname)\n",
    "\n",
    "name(\"Amy\")"
   ]
  },
  {
   "cell_type": "markdown",
   "id": "c9f9ddfd",
   "metadata": {},
   "source": [
    "Keyword arguments:\n",
    "We can provide arguments with key = value, this way the interpreter recognizes the arguments by the parameter name. Hence, the the order in which the arguments are passed does not matter."
   ]
  },
  {
   "cell_type": "code",
   "execution_count": 3,
   "id": "36a857c0",
   "metadata": {},
   "outputs": [
    {
     "name": "stdout",
     "output_type": "stream",
     "text": [
      "Hello, Jade Peter Wesker\n"
     ]
    }
   ],
   "source": [
    "def name(fname, mname, lname):\n",
    "    print(\"Hello,\", fname, mname, lname)\n",
    "\n",
    "name(mname = \"Peter\", lname = \"Wesker\", fname = \"Jade\")"
   ]
  },
  {
   "cell_type": "markdown",
   "id": "f88909a4",
   "metadata": {},
   "source": [
    "Required arguments:\n",
    "In case we don’t pass the arguments with a key = value syntax, then it is necessary to pass the arguments in the correct positional order and the number of arguments passed should match with actual function definition."
   ]
  },
  {
   "cell_type": "code",
   "execution_count": 4,
   "id": "e7fb927b",
   "metadata": {},
   "outputs": [
    {
     "name": "stdout",
     "output_type": "stream",
     "text": [
      "Hello, Peter Ego Quill\n"
     ]
    }
   ],
   "source": [
    "def name(fname, mname, lname):\n",
    "    print(\"Hello,\", fname, mname, lname)\n",
    "\n",
    "name(\"Peter\", \"Ego\", \"Quill\")"
   ]
  },
  {
   "cell_type": "markdown",
   "id": "640c8afa",
   "metadata": {},
   "source": [
    "Variable-length arguments:\n",
    "Sometimes we may need to pass more arguments than those defined in the actual function. This can be done using variable-length arguments.\n",
    "\n",
    "There are two ways to achieve this:\n",
    "Arbitrary Arguments:\n",
    "While creating a function, pass a * before the parameter name while defining the function."
   ]
  },
  {
   "cell_type": "code",
   "execution_count": 5,
   "id": "cbf7b9c2",
   "metadata": {},
   "outputs": [
    {
     "name": "stdout",
     "output_type": "stream",
     "text": [
      "Hello, James Buchanan Barnes\n"
     ]
    }
   ],
   "source": [
    "def name(*name):\n",
    "    print(\"Hello,\", name[0], name[1], name[2])\n",
    "\n",
    "name(\"James\", \"Buchanan\", \"Barnes\")"
   ]
  },
  {
   "cell_type": "markdown",
   "id": "487a120b",
   "metadata": {},
   "source": [
    "Keyword Arbitrary Arguments:\n"
   ]
  },
  {
   "cell_type": "code",
   "execution_count": 7,
   "id": "abd12682",
   "metadata": {},
   "outputs": [
    {
     "name": "stdout",
     "output_type": "stream",
     "text": [
      "Hello, James Buchanan Barnes\n"
     ]
    }
   ],
   "source": [
    "def name(**name):\n",
    "    print(\"Hello,\", name[\"fname\"], name[\"mname\"], name[\"lname\"])\n",
    "\n",
    "name(mname = \"Buchanan\", lname = \"Barnes\", fname = \"James\")"
   ]
  },
  {
   "cell_type": "markdown",
   "id": "f1db70d0",
   "metadata": {},
   "source": [
    "# return Statement\n",
    "The return statement is used to return the value of the expression back to the main function."
   ]
  },
  {
   "cell_type": "code",
   "execution_count": 8,
   "id": "446dbd28",
   "metadata": {},
   "outputs": [
    {
     "name": "stdout",
     "output_type": "stream",
     "text": [
      "Hello, James Buchanan Barnes\n"
     ]
    }
   ],
   "source": [
    "def name(fname, mname, lname):\n",
    "    return \"Hello, \" + fname + \" \" + mname + \" \" + lname\n",
    "\n",
    "print(name(\"James\", \"Buchanan\", \"Barnes\"))"
   ]
  },
  {
   "cell_type": "markdown",
   "id": "c5246f95",
   "metadata": {},
   "source": [
    "# Python Recursion\n",
    "We can let the function call itself, such a process is known as calling a function recursively in python."
   ]
  },
  {
   "cell_type": "code",
   "execution_count": 10,
   "id": "6ce1d916",
   "metadata": {},
   "outputs": [
    {
     "name": "stdout",
     "output_type": "stream",
     "text": [
      "Enter The Number5\n",
      "number:  5\n",
      "Factorial:  120\n"
     ]
    }
   ],
   "source": [
    "def factorial(num): \n",
    "    if (num == 1 or num == 0):\n",
    "        return 1\n",
    "    else:\n",
    "        return (num * factorial(num - 1)) \n",
    " \n",
    "num = int(input(\"Enter The Number\"))\n",
    "print(\"number: \",num)\n",
    "print(\"Factorial: \",factorial(num))"
   ]
  },
  {
   "cell_type": "code",
   "execution_count": 1,
   "id": "77667ae1",
   "metadata": {},
   "outputs": [
    {
     "name": "stdout",
     "output_type": "stream",
     "text": [
      "Enter the password length: 10\n",
      "Enter the number of passwords: 5\n",
      "+b]}}%j,.:\n",
      "TJ4x.Ha<t*\n",
      "3P~cN;7326\n",
      "ayEB@HA\"w0\n",
      ".tYpw#3.{R\n"
     ]
    }
   ],
   "source": [
    "#random Password Generator\n",
    "import random\n",
    "import string\n",
    "\n",
    "def generate_password(length=12):\n",
    "    characters = string.ascii_letters + string.digits + string.punctuation\n",
    "    password = ''.join(random.choice(characters) for _ in range(length))\n",
    "\n",
    "    return password\n",
    "try:\n",
    "    password_length = int(input(\"Enter the password length: \"))\n",
    "    num_passwords = int(input(\"Enter the number of passwords: \"))\n",
    "    for _ in range(num_passwords):\n",
    "        password = generate_password(password_length)\n",
    "        print(password)\n",
    "\n",
    "except ValueError:\n",
    "    print(\"Invalid input. Please enter valid numbers for password length and number of passwords.\")\n"
   ]
  },
  {
   "cell_type": "code",
   "execution_count": 3,
   "id": "72807bf7",
   "metadata": {},
   "outputs": [
    {
     "name": "stdout",
     "output_type": "stream",
     "text": [
      "Enter a time in seconds: 10\n",
      "countdown off!\n"
     ]
    }
   ],
   "source": [
    "#Countdown Timer\n",
    "\n",
    "import time\n",
    "def countdown(user_time):\n",
    "   while user_time >= 0:\n",
    "       mins, secs = divmod(user_time, 60)\n",
    "       timer = '{:02d}:{:02d}'.format(mins, secs)\n",
    "       print(timer, end='\\r')\n",
    "       time.sleep(1)\n",
    "       user_time -= 1\n",
    "   print('countdown off!')\n",
    "\n",
    "if __name__ == '__main__':\n",
    "   user_time = int(input(\"Enter a time in seconds: \"))\n",
    "   countdown(user_time)"
   ]
  },
  {
   "cell_type": "code",
   "execution_count": 5,
   "id": "1f855326",
   "metadata": {},
   "outputs": [
    {
     "name": "stdout",
     "output_type": "stream",
     "text": [
      "         1 \n",
      "        1 1 \n",
      "       1 2 1 \n",
      "      1 3 3 1 \n",
      "     1 4 6 4 1 \n",
      "    1 5 10 10 5 1 \n",
      "   1 6 15 20 15 6 1 \n",
      "  1 7 21 35 35 21 7 1 \n"
     ]
    }
   ],
   "source": [
    "#Pascal's Triangle\n",
    "from math import factorial\n",
    "def pascal_triangle(n):\n",
    "   for i in range(n):\n",
    "       for j in range(n-i+1):\n",
    "           print(end=' ')\n",
    "       for j in range(i+1):       \n",
    "           print(factorial(i)//(factorial(j)*factorial(i-j)), end=' ')\n",
    "       print()\n",
    "\n",
    "if __name__ == '__main__':\n",
    "   pascal_triangle(8)"
   ]
  }
 ],
 "metadata": {
  "kernelspec": {
   "display_name": "Python 3 (ipykernel)",
   "language": "python",
   "name": "python3"
  },
  "language_info": {
   "codemirror_mode": {
    "name": "ipython",
    "version": 3
   },
   "file_extension": ".py",
   "mimetype": "text/x-python",
   "name": "python",
   "nbconvert_exporter": "python",
   "pygments_lexer": "ipython3",
   "version": "3.11.3"
  }
 },
 "nbformat": 4,
 "nbformat_minor": 5
}

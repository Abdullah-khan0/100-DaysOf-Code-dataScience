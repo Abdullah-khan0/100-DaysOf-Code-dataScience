{
 "cells": [
  {
   "cell_type": "markdown",
   "id": "18c77747",
   "metadata": {},
   "source": [
    "# Performance Metrics For Classification and Regression"
   ]
  },
  {
   "cell_type": "code",
   "execution_count": 1,
   "id": "3182efec",
   "metadata": {},
   "outputs": [
    {
     "name": "stdout",
     "output_type": "stream",
     "text": [
      "Accuracy: 0.7\n",
      "Precision: 0.8\n",
      "Recall: 0.6666666666666666\n",
      "F1-Score: 0.7272727272727272\n",
      "Confusion Matrix:\n",
      " [[3 1]\n",
      " [2 4]]\n"
     ]
    }
   ],
   "source": [
    "from sklearn.metrics import accuracy_score, precision_score, recall_score, f1_score, confusion_matrix\n",
    "from sklearn.metrics import mean_absolute_error, mean_squared_error, r2_score, median_absolute_error\n",
    "\n",
    "# Classification Metrics\n",
    "actual_labels = [0, 1, 1, 0, 1, 0, 1, 0, 1, 1]\n",
    "predicted_labels = [0, 1, 0, 1, 1, 0, 1, 0, 0, 1]\n",
    "\n",
    "\n",
    "accuracy = accuracy_score(actual_labels, predicted_labels)\n",
    "precision = precision_score(actual_labels, predicted_labels)\n",
    "recall = recall_score(actual_labels, predicted_labels)\n",
    "f1 = f1_score(actual_labels, predicted_labels)\n",
    "conf_matrix = confusion_matrix(actual_labels, predicted_labels)\n",
    "\n",
    "\n",
    "print(\"Accuracy:\", accuracy)\n",
    "print(\"Precision:\", precision)\n",
    "print(\"Recall:\", recall)\n",
    "print(\"F1-Score:\", f1)\n",
    "print(\"Confusion Matrix:\\n\", conf_matrix)\n"
   ]
  },
  {
   "cell_type": "code",
   "execution_count": 2,
   "id": "e5bc450d",
   "metadata": {},
   "outputs": [
    {
     "name": "stdout",
     "output_type": "stream",
     "text": [
      "Mean Absolute Error: 2.2\n",
      "Mean Squared Error: 5.4\n",
      "R-squared: 0.892\n",
      "Median Absolute Error: 2.0\n"
     ]
    }
   ],
   "source": [
    "from sklearn.metrics import mean_absolute_error, mean_squared_error, r2_score, median_absolute_error\n",
    "\n",
    "# Regression Metrics\n",
    "actual_values = [10, 15, 20, 25, 30]\n",
    "predicted_values = [12, 14, 18, 28, 33]\n",
    "\n",
    "mae = mean_absolute_error(actual_values, predicted_values)\n",
    "mse = mean_squared_error(actual_values, predicted_values)\n",
    "r2 = r2_score(actual_values, predicted_values)\n",
    "medae = median_absolute_error(actual_values, predicted_values)\n",
    "\n",
    "print(\"Mean Absolute Error:\", mae)\n",
    "print(\"Mean Squared Error:\", mse)\n",
    "print(\"R-squared:\", r2)\n",
    "print(\"Median Absolute Error:\", medae)"
   ]
  },
  {
   "cell_type": "code",
   "execution_count": null,
   "id": "6d0c539c",
   "metadata": {},
   "outputs": [],
   "source": []
  }
 ],
 "metadata": {
  "kernelspec": {
   "display_name": "Python 3 (ipykernel)",
   "language": "python",
   "name": "python3"
  },
  "language_info": {
   "codemirror_mode": {
    "name": "ipython",
    "version": 3
   },
   "file_extension": ".py",
   "mimetype": "text/x-python",
   "name": "python",
   "nbconvert_exporter": "python",
   "pygments_lexer": "ipython3",
   "version": "3.11.3"
  }
 },
 "nbformat": 4,
 "nbformat_minor": 5
}

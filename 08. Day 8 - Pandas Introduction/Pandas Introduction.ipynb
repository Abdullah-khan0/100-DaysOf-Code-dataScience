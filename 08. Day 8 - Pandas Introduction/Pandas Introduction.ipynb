{
 "cells": [
  {
   "cell_type": "markdown",
   "id": "e79fb075",
   "metadata": {},
   "source": [
    "# ----------------Pandas-----------------"
   ]
  },
  {
   "cell_type": "markdown",
   "id": "f28fa448",
   "metadata": {},
   "source": [
    "It supports two data structures:\n",
    "\n",
    "1. Series\n",
    "\n",
    "2. Dataframe\n"
   ]
  },
  {
   "cell_type": "markdown",
   "id": "06146746",
   "metadata": {},
   "source": [
    "1. Series\n",
    "\n",
    "Create an Empty Series\n"
   ]
  },
  {
   "cell_type": "code",
   "execution_count": 6,
   "id": "1d0fad31",
   "metadata": {},
   "outputs": [
    {
     "name": "stdout",
     "output_type": "stream",
     "text": [
      "Series([], dtype: float64)\n"
     ]
    },
    {
     "name": "stderr",
     "output_type": "stream",
     "text": [
      "C:\\Users\\ABDULLAH KHAN\\AppData\\Local\\Temp\\ipykernel_18452\\2248554822.py:2: FutureWarning: The default dtype for empty Series will be 'object' instead of 'float64' in a future version. Specify a dtype explicitly to silence this warning.\n",
      "  ls = pd.Series()\n"
     ]
    }
   ],
   "source": [
    "import pandas as pd\n",
    "ls = pd.Series()\n",
    "print(ls)"
   ]
  },
  {
   "cell_type": "markdown",
   "id": "f727334f",
   "metadata": {},
   "source": [
    "Create a Series from ndarray\n"
   ]
  },
  {
   "cell_type": "code",
   "execution_count": 7,
   "id": "af11b770",
   "metadata": {},
   "outputs": [
    {
     "name": "stdout",
     "output_type": "stream",
     "text": [
      "0    a\n",
      "1    b\n",
      "2    c\n",
      "3    d\n",
      "dtype: object\n"
     ]
    }
   ],
   "source": [
    "import pandas as pd\n",
    "import numpy as np\n",
    "data = np.array(['a','b','c','d'])\n",
    "ls = pd.Series(data)\n",
    "print(ls)"
   ]
  },
  {
   "cell_type": "markdown",
   "id": "bb82258e",
   "metadata": {},
   "source": [
    "Create a Pandas Series from a list:"
   ]
  },
  {
   "cell_type": "code",
   "execution_count": 1,
   "id": "448c30cc",
   "metadata": {},
   "outputs": [
    {
     "name": "stdout",
     "output_type": "stream",
     "text": [
      "0    6\n",
      "1    7\n",
      "2    2\n",
      "dtype: int64\n"
     ]
    }
   ],
   "source": [
    "import pandas as pd\n",
    "a = [6, 7, 2]\n",
    "ls = pd.Series(a)\n",
    "print(ls)"
   ]
  },
  {
   "cell_type": "markdown",
   "id": "2f0bcf0e",
   "metadata": {},
   "source": [
    "Create a Pandas Series from a dictionary:"
   ]
  },
  {
   "cell_type": "code",
   "execution_count": 2,
   "id": "1aed432b",
   "metadata": {},
   "outputs": [
    {
     "name": "stdout",
     "output_type": "stream",
     "text": [
      "day1    420\n",
      "day2    380\n",
      "day3    390\n",
      "dtype: int64\n"
     ]
    }
   ],
   "source": [
    "import pandas as pd\n",
    "calories = {\"day1\": 420,\n",
    "            \"day2\": 380,\n",
    "            \"day3\": 390\n",
    "           }\n",
    "df = pd.Series(calories)\n",
    "print(df)"
   ]
  },
  {
   "cell_type": "markdown",
   "id": "9254e373",
   "metadata": {},
   "source": [
    "### Create DataFrame\n",
    "\n",
    "A pandas DataFrame can be created using various inputs like −\n",
    "\n",
    "Lists\n",
    "\n",
    "dict\n",
    "\n",
    "Series\n",
    "\n",
    "Numpy ndarrays\n",
    "\n",
    "Another DataFrame"
   ]
  },
  {
   "cell_type": "markdown",
   "id": "700f11e7",
   "metadata": {},
   "source": [
    "Create an Empty DataFrame\n"
   ]
  },
  {
   "cell_type": "code",
   "execution_count": 9,
   "id": "3d8b6324",
   "metadata": {},
   "outputs": [
    {
     "name": "stdout",
     "output_type": "stream",
     "text": [
      "Empty DataFrame\n",
      "Columns: []\n",
      "Index: []\n"
     ]
    }
   ],
   "source": [
    "import pandas as pd\n",
    "df = pd.DataFrame()\n",
    "print(df)"
   ]
  },
  {
   "cell_type": "markdown",
   "id": "441e51be",
   "metadata": {},
   "source": [
    "Create a DataFrame from Lists\n"
   ]
  },
  {
   "cell_type": "code",
   "execution_count": 10,
   "id": "aa6fe826",
   "metadata": {},
   "outputs": [
    {
     "name": "stdout",
     "output_type": "stream",
     "text": [
      "   0\n",
      "0  6\n",
      "1  7\n",
      "2  2\n"
     ]
    }
   ],
   "source": [
    "import pandas as pd\n",
    "a = [6, 7, 2]\n",
    "ls = pd.DataFrame(a)\n",
    "print(ls)"
   ]
  },
  {
   "cell_type": "markdown",
   "id": "98b0e7cb",
   "metadata": {},
   "source": [
    "Create a DataFrame from Dict of ndarrays / Lists\n"
   ]
  },
  {
   "cell_type": "code",
   "execution_count": 13,
   "id": "728d6f7e",
   "metadata": {},
   "outputs": [
    {
     "name": "stdout",
     "output_type": "stream",
     "text": [
      "        Name  Age\n",
      "rank1    Tom   28\n",
      "rank2   Jack   34\n",
      "rank3  Steve   29\n",
      "rank4  Ricky   42\n"
     ]
    }
   ],
   "source": [
    "import pandas as pd\n",
    "data = {\n",
    "        'Name':['Tom', 'Jack', 'Steve', 'Ricky'],\n",
    "        'Age':[28,34,29,42]\n",
    "       }\n",
    "df = pd.DataFrame(data, index=['rank1','rank2','rank3','rank4'])\n",
    "print(df)"
   ]
  },
  {
   "cell_type": "markdown",
   "id": "23d7f77d",
   "metadata": {},
   "source": [
    "Create a DataFrame from List of Dicts\n"
   ]
  },
  {
   "cell_type": "code",
   "execution_count": 19,
   "id": "def35f9e",
   "metadata": {},
   "outputs": [
    {
     "name": "stdout",
     "output_type": "stream",
     "text": [
      "a    1.0\n",
      "b    2.0\n",
      "c    NaN\n",
      "Name: 0, dtype: float64\n"
     ]
    }
   ],
   "source": [
    "import pandas as pd\n",
    "data = [\n",
    "    {'a': 1, 'b': 2},\n",
    "    {'a': 5, 'b': 10, 'c': 20}\n",
    "    ]\n",
    "df = pd.DataFrame(data)\n",
    "print(df.loc[0])#Pandas use the loc attribute to return one or more specified row(s)."
   ]
  },
  {
   "cell_type": "markdown",
   "id": "528caf7a",
   "metadata": {},
   "source": [
    "### Pandas - Descriptive Statistics"
   ]
  },
  {
   "cell_type": "code",
   "execution_count": 23,
   "id": "04c14118",
   "metadata": {},
   "outputs": [
    {
     "name": "stdout",
     "output_type": "stream",
     "text": [
      "      Name  Age  Rating\n",
      "0      Tom   25    4.23\n",
      "1    James   26    3.24\n",
      "2    Ricky   25    3.98\n",
      "3      Vin   23    2.56\n",
      "4    Steve   30    3.20\n",
      "5    Smith   29    4.60\n",
      "6     Jack   23    3.80\n",
      "7      Lee   34    3.78\n",
      "8    David   40    2.98\n",
      "9   Gasper   30    4.80\n",
      "10  Betina   51    4.10\n",
      "11  Andres   46    3.65\n",
      "------------------**sum**---------------------\n",
      "Name      TomJamesRickyVinSteveSmithJackLeeDavidGasperBe...\n",
      "Age                                                     382\n",
      "Rating                                                44.92\n",
      "dtype: object\n",
      "------------------**mean**---------------------\n",
      "Age       31.833333\n",
      "Rating     3.743333\n",
      "dtype: float64\n",
      "------------------**mode**---------------------\n",
      "      Name   Age  Rating\n",
      "0   Andres  23.0    2.56\n",
      "1   Betina  25.0    2.98\n",
      "2    David  30.0    3.20\n",
      "3   Gasper   NaN    3.24\n",
      "4     Jack   NaN    3.65\n",
      "5    James   NaN    3.78\n",
      "6      Lee   NaN    3.80\n",
      "7    Ricky   NaN    3.98\n",
      "8    Smith   NaN    4.10\n",
      "9    Steve   NaN    4.23\n",
      "10     Tom   NaN    4.60\n",
      "11     Vin   NaN    4.80\n",
      "------------------**median**---------------------\n",
      "Age       29.50\n",
      "Rating     3.79\n",
      "dtype: float64\n",
      "------------------**std**---------------------\n",
      "Age       9.232682\n",
      "Rating    0.661628\n",
      "dtype: float64\n",
      "------------------**describe**---------------------\n",
      "             Age     Rating\n",
      "count  12.000000  12.000000\n",
      "mean   31.833333   3.743333\n",
      "std     9.232682   0.661628\n",
      "min    23.000000   2.560000\n",
      "25%    25.000000   3.230000\n",
      "50%    29.500000   3.790000\n",
      "75%    35.500000   4.132500\n",
      "max    51.000000   4.800000\n",
      "------------------**max**---------------------\n",
      "Name      Vin\n",
      "Age        51\n",
      "Rating    4.8\n",
      "dtype: object\n",
      "------------------**min**---------------------\n",
      "Name      Andres\n",
      "Age           23\n",
      "Rating      2.56\n",
      "dtype: object\n"
     ]
    },
    {
     "name": "stderr",
     "output_type": "stream",
     "text": [
      "C:\\Users\\ABDULLAH KHAN\\AppData\\Local\\Temp\\ipykernel_18452\\2901324558.py:16: FutureWarning: The default value of numeric_only in DataFrame.mean is deprecated. In a future version, it will default to False. In addition, specifying 'numeric_only=None' is deprecated. Select only valid columns or specify the value of numeric_only to silence this warning.\n",
      "  print(df.mean())\n",
      "C:\\Users\\ABDULLAH KHAN\\AppData\\Local\\Temp\\ipykernel_18452\\2901324558.py:20: FutureWarning: The default value of numeric_only in DataFrame.median is deprecated. In a future version, it will default to False. In addition, specifying 'numeric_only=None' is deprecated. Select only valid columns or specify the value of numeric_only to silence this warning.\n",
      "  print(df.median())\n",
      "C:\\Users\\ABDULLAH KHAN\\AppData\\Local\\Temp\\ipykernel_18452\\2901324558.py:22: FutureWarning: The default value of numeric_only in DataFrame.std is deprecated. In a future version, it will default to False. In addition, specifying 'numeric_only=None' is deprecated. Select only valid columns or specify the value of numeric_only to silence this warning.\n",
      "  print(df.std())\n"
     ]
    }
   ],
   "source": [
    "import pandas as pd\n",
    "import numpy as np\n",
    "\n",
    "d = {'Name':pd.Series(['Tom','James','Ricky','Vin','Steve','Smith','Jack',\n",
    "   'Lee','David','Gasper','Betina','Andres']),\n",
    "   'Age':pd.Series([25,26,25,23,30,29,23,34,40,30,51,46]),\n",
    "   'Rating':pd.Series([4.23,3.24,3.98,2.56,3.20,4.6,3.8,3.78,2.98,4.80,4.10,3.65])\n",
    "}\n",
    "\n",
    "#Create a DataFrame\n",
    "df = pd.DataFrame(d)\n",
    "print(df)\n",
    "print(\"------------------**sum**---------------------\")\n",
    "print(df.sum())\n",
    "print(\"------------------**mean**---------------------\")\n",
    "print(df.mean())\n",
    "print(\"------------------**mode**---------------------\")\n",
    "print(df.mode())\n",
    "print(\"------------------**median**---------------------\")\n",
    "print(df.median())\n",
    "print(\"------------------**std**---------------------\")\n",
    "print(df.std())\n",
    "print(\"------------------**describe**---------------------\")\n",
    "print(df.describe())\n",
    "print(\"------------------**max**---------------------\")\n",
    "print(df.max())\n",
    "print(\"------------------**min**---------------------\")\n",
    "print(df.min())"
   ]
  },
  {
   "cell_type": "code",
   "execution_count": null,
   "id": "c15ca5f4",
   "metadata": {},
   "outputs": [],
   "source": []
  }
 ],
 "metadata": {
  "kernelspec": {
   "display_name": "Python 3 (ipykernel)",
   "language": "python",
   "name": "python3"
  },
  "language_info": {
   "codemirror_mode": {
    "name": "ipython",
    "version": 3
   },
   "file_extension": ".py",
   "mimetype": "text/x-python",
   "name": "python",
   "nbconvert_exporter": "python",
   "pygments_lexer": "ipython3",
   "version": "3.11.3"
  }
 },
 "nbformat": 4,
 "nbformat_minor": 5
}

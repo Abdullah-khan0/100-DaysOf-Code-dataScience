{
 "cells": [
  {
   "cell_type": "markdown",
   "id": "406a68cc",
   "metadata": {},
   "source": [
    "# --------------Python Oops---------------"
   ]
  },
  {
   "cell_type": "markdown",
   "id": "b7d89771",
   "metadata": {},
   "source": [
    "# Creating a Class:\n",
    "A class is a blueprint or a template for creating objects while an object is an instance or a copy of the class with actual values. \n"
   ]
  },
  {
   "cell_type": "code",
   "execution_count": 2,
   "id": "711695a7",
   "metadata": {},
   "outputs": [],
   "source": [
    "#Create a class using the class keyword.\n",
    "class Details:\n",
    "    name = \"Aryan\"\n",
    "    address = \"Delhi\"\n",
    "    age = 25"
   ]
  },
  {
   "cell_type": "markdown",
   "id": "3d7cdd69",
   "metadata": {},
   "source": [
    "# Creating an Object:\n",
    "create object of the class."
   ]
  },
  {
   "cell_type": "code",
   "execution_count": 3,
   "id": "0b239a61",
   "metadata": {},
   "outputs": [
    {
     "name": "stdout",
     "output_type": "stream",
     "text": [
      "Aryan\n",
      "Delhi\n",
      "25\n"
     ]
    }
   ],
   "source": [
    "class Details:\n",
    "    name = \"Aryan\"\n",
    "    address = \"Delhi\"\n",
    "    age = 25\n",
    "\n",
    "obj1 = Details()\n",
    "print(obj1.name)\n",
    "print(obj1.address)\n",
    "print(obj1.age)"
   ]
  },
  {
   "cell_type": "markdown",
   "id": "8e63c263",
   "metadata": {},
   "source": [
    "# self method\n",
    "The self parameter is a reference to the current instance of the class, and is used to access variables that belong to the class.\n",
    "\n",
    "It must be provided as the extra parameter inside the method definition. "
   ]
  },
  {
   "cell_type": "code",
   "execution_count": 5,
   "id": "9a90b671",
   "metadata": {},
   "outputs": [
    {
     "name": "stdout",
     "output_type": "stream",
     "text": [
      "My name is Aryan I'm from Delhi and I'm 25 years old.\n"
     ]
    }
   ],
   "source": [
    "class Details:\n",
    "    name = \"Aryan\"\n",
    "    address = \"Delhi\"\n",
    "    age = 25\n",
    "\n",
    "    def desc(self):\n",
    "        print(\"My name is\", self.name,\n",
    "              \"I'm from\",self.address,\n",
    "              \"and I'm\", self.age, \"years old.\")\n",
    "\n",
    "obj1 = Details()\n",
    "obj1.desc()"
   ]
  },
  {
   "cell_type": "markdown",
   "id": "27154158",
   "metadata": {},
   "source": [
    "# __init__ method\n",
    "The __init__ method is used to initialize the object’s state and contains statements that are executed at the time of object creation.\n"
   ]
  },
  {
   "cell_type": "code",
   "execution_count": 10,
   "id": "9ee0df95",
   "metadata": {},
   "outputs": [
    {
     "name": "stdout",
     "output_type": "stream",
     "text": [
      "Hello my name is John\n"
     ]
    }
   ],
   "source": [
    "#The string representation of an object WITHOUT the __str__() function:\n",
    "class Details:\n",
    "    def __init__(self, name, age):\n",
    "        self.name = name\n",
    "        self.age = age\n",
    "\n",
    "obj1 = Details(\"John\", 36)\n",
    "print(\"Hello my name is \" + obj1.name)"
   ]
  },
  {
   "cell_type": "code",
   "execution_count": 14,
   "id": "51cec7fc",
   "metadata": {},
   "outputs": [
    {
     "name": "stdout",
     "output_type": "stream",
     "text": [
      "John(36)\n"
     ]
    }
   ],
   "source": [
    "#The string representation of an object WITH the __str__() function:\n",
    "class Details:\n",
    "    def __init__(self, name, age):\n",
    "        self.name = name\n",
    "        self.age = age\n",
    "\n",
    "    def __str__(self):\n",
    "        return f\"{self.name}({self.age})\"\n",
    "\n",
    "obj1 = Details(\"John\", 36)\n",
    "\n",
    "print(obj1)"
   ]
  },
  {
   "cell_type": "markdown",
   "id": "102b4166",
   "metadata": {},
   "source": [
    "# Python Iterators\n",
    "Iterators in python are used to iterate over iterable objects or container datatypes like lists, tuples, dictionaries, sets, etc.\n",
    "\n",
    "It consists of __iter__() and __next__() methods.\n",
    "\n",
    "__iter__() : to initialize an iterator, use the __iter__() method.\n",
    "\n",
    "__next__() : This method returns the next item of the sequence.\n"
   ]
  },
  {
   "cell_type": "code",
   "execution_count": 15,
   "id": "3bfd9ea2",
   "metadata": {},
   "outputs": [
    {
     "name": "stdout",
     "output_type": "stream",
     "text": [
      "H\n",
      "e\n",
      "l\n",
      "l\n",
      "o\n",
      " \n",
      "W\n",
      "o\n",
      "r\n",
      "l\n",
      "d\n"
     ]
    }
   ],
   "source": [
    "#Using inbuilt iterators:\n",
    "string = 'Hello World'\n",
    "iterObj = iter(string)\n",
    "\n",
    "while True:\n",
    "    try:\n",
    "        char1 = next(iterObj)\n",
    "        print(char1)\n",
    "    except StopIteration:\n",
    "        break"
   ]
  },
  {
   "cell_type": "code",
   "execution_count": 25,
   "id": "98e61679",
   "metadata": {},
   "outputs": [
    {
     "name": "stdout",
     "output_type": "stream",
     "text": [
      "0\n",
      "10\n",
      "20\n",
      "30\n",
      "40\n",
      "50\n",
      "60\n",
      "70\n",
      "80\n",
      "90\n",
      "100\n"
     ]
    }
   ],
   "source": [
    "#Creating Custom iterators:\n",
    "class multipleOf4:\n",
    "    def __iter__(self):\n",
    "        self.count = 0\n",
    "        return self\n",
    "\n",
    "    def __next__(self):\n",
    "         if self.count <= 100:\n",
    "            x = self.count\n",
    "            self.count += 10\n",
    "            return x\n",
    "         else:\n",
    "            raise StopIteration\n",
    "\n",
    "obj1 = multipleOf4()\n",
    "number = iter(obj1)\n",
    "\n",
    "for x in number:\n",
    "    print(x)"
   ]
  },
  {
   "cell_type": "markdown",
   "id": "024b8953",
   "metadata": {},
   "source": [
    "# --------------Python Try Except----------------"
   ]
  },
  {
   "cell_type": "markdown",
   "id": "a157b92d",
   "metadata": {},
   "source": [
    "The try block lets you test a block of code for errors.\n",
    "\n",
    "The except block lets you handle the error.\n",
    "\n",
    "The else block lets you execute code when there is no error.\n",
    "\n",
    "The finally block lets you execute code, regardless of the result of the try- and except blocks."
   ]
  },
  {
   "cell_type": "code",
   "execution_count": 32,
   "id": "5bde744d",
   "metadata": {},
   "outputs": [
    {
     "name": "stdout",
     "output_type": "stream",
     "text": [
      "Enter an integer: abcd\n",
      "Number entered is not an integer.\n"
     ]
    }
   ],
   "source": [
    "try:\n",
    "    num = int(input(\"Enter an integer: \"))\n",
    "except ValueError:\n",
    "    print(\"Number entered is not an integer.\")"
   ]
  },
  {
   "cell_type": "code",
   "execution_count": 31,
   "id": "de4044c3",
   "metadata": {},
   "outputs": [
    {
     "name": "stdout",
     "output_type": "stream",
     "text": [
      "Enter an integer: 55\n",
      "Integer Accepted.\n"
     ]
    }
   ],
   "source": [
    "try:\n",
    "    num = int(input(\"Enter an integer: \"))\n",
    "except ValueError:\n",
    "    print(\"Number entered is not an integer.\")\n",
    "else:\n",
    "    print(\"Integer Accepted.\")"
   ]
  },
  {
   "cell_type": "code",
   "execution_count": 33,
   "id": "81b22063",
   "metadata": {},
   "outputs": [
    {
     "name": "stdout",
     "output_type": "stream",
     "text": [
      "Enter an integer: -90\n",
      "Integer Accepted.\n",
      "This block is always executed.\n"
     ]
    }
   ],
   "source": [
    "try:\n",
    "    num = int(input(\"Enter an integer: \"))\n",
    "except ValueError:\n",
    "    print(\"Number entered is not an integer.\")\n",
    "else:\n",
    "    print(\"Integer Accepted.\")\n",
    "finally:\n",
    "    print(\"This block is always executed.\")"
   ]
  }
 ],
 "metadata": {
  "kernelspec": {
   "display_name": "Python 3 (ipykernel)",
   "language": "python",
   "name": "python3"
  },
  "language_info": {
   "codemirror_mode": {
    "name": "ipython",
    "version": 3
   },
   "file_extension": ".py",
   "mimetype": "text/x-python",
   "name": "python",
   "nbconvert_exporter": "python",
   "pygments_lexer": "ipython3",
   "version": "3.11.3"
  }
 },
 "nbformat": 4,
 "nbformat_minor": 5
}
